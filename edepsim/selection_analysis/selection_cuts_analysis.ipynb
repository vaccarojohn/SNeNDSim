{
 "cells": [
  {
   "cell_type": "code",
   "execution_count": 1,
   "id": "5c01658d-f187-4dc1-9365-35d6b0d71245",
   "metadata": {},
   "outputs": [],
   "source": [
    "import numpy as np\n",
    "import matplotlib.pyplot as plt"
   ]
  },
  {
   "cell_type": "code",
   "execution_count": 2,
   "id": "8c255b4f-6719-4578-bbc3-136916bad8db",
   "metadata": {},
   "outputs": [
    {
     "name": "stdout",
     "output_type": "stream",
     "text": [
      "Successfully loaded data!\n"
     ]
    }
   ],
   "source": [
    "# Read NumPy data\n",
    "infile_dir = 'graph_data'\n",
    "signal_segment_data = np.load('../signal/' + infile_dir + '/signal_segment_data.npz')\n",
    "signal_selection_data = np.load('../signal/' + infile_dir + '/signal_selection_data.npz')\n",
    "signal_vertex_data = np.load('../signal/' + infile_dir + '/signal_vertex_data.npz')\n",
    "cosmics_segment_data = np.load('../cosmics/' + infile_dir + '/cosmics_segment_data.npz')\n",
    "cosmics_selection_data = np.load('../cosmics/' + infile_dir + '/cosmics_selection_data.npz')\n",
    "cosmics_vertex_data = np.load('../cosmics/' + infile_dir + '/cosmics_vertex_data.npz')\n",
    "BRN_segment_data = np.load('../BRN/' + infile_dir + '/BRN_segment_data.npz')\n",
    "BRN_selection_data = np.load('../BRN/' + infile_dir + '/BRN_selection_data.npz')\n",
    "BRN_vertex_data = np.load('../BRN/' + infile_dir + '/BRN_vertex_data.npz')\n",
    "\n",
    "print(\"Successfully loaded data!\")"
   ]
  },
  {
   "cell_type": "code",
   "execution_count": 16,
   "id": "b4122626-d9ea-4647-a37b-32b468348afc",
   "metadata": {},
   "outputs": [
    {
     "name": "stdout",
     "output_type": "stream",
     "text": [
      "Cut #1\n",
      "Number of Signal Events in TPC: 99990\n",
      "Number of Cosmic Events in TPC: 390035\n",
      "Number of BRN Events in TPC: 189055\n"
     ]
    }
   ],
   "source": [
    "# Get number of signal, cosmic, and BRN events in the active volume\n",
    "\n",
    "print(\"Cut #1\")\n",
    "print(\"Number of Signal Events in TPC: \" + str(len(signal_segment_data['psenergy'])))\n",
    "print(\"Number of Cosmic Events in TPC: \" + str(len(cosmics_segment_data['psenergy'])))\n",
    "print(\"Number of BRN Events in TPC: \" + str(len(BRN_segment_data['psenergy'])))"
   ]
  },
  {
   "cell_type": "code",
   "execution_count": 17,
   "id": "059a7da5-b2b3-40bc-9d41-4c1863988600",
   "metadata": {},
   "outputs": [
    {
     "name": "stdout",
     "output_type": "stream",
     "text": [
      "Cut #2\n",
      "Number of Signal Events with [SignalVolEFrac > 0.4]: 89752\n",
      "Number of Cosmic Events with [SignalVolEFrac > 0.4]: 179944\n",
      "Number of BRN Events with [SignalVolEFrac > 0.4]: 99868\n"
     ]
    }
   ],
   "source": [
    "# Apply selection cut [SignalVolEFrac > 0.4]\n",
    "\n",
    "print(\"Cut #2\")\n",
    "\n",
    "n = 0\n",
    "for psenergy in signal_segment_data['psenergy']:\n",
    "    if psenergy > 0.4:\n",
    "        n += 1\n",
    "\n",
    "print(\"Number of Signal Events with [SignalVolEFrac > 0.4]: \" + str(n))\n",
    "\n",
    "n = 0\n",
    "for psenergy in cosmics_segment_data['psenergy']:\n",
    "    if psenergy > 0.4:\n",
    "        n += 1\n",
    "\n",
    "print(\"Number of Cosmic Events with [SignalVolEFrac > 0.4]: \" + str(n))\n",
    "\n",
    "n = 0\n",
    "for psenergy in BRN_segment_data['psenergy']:\n",
    "    if psenergy > 0.4:\n",
    "        n += 1\n",
    "\n",
    "print(\"Number of BRN Events with [SignalVolEFrac > 0.4]: \" + str(n))"
   ]
  },
  {
   "cell_type": "code",
   "execution_count": 18,
   "id": "3d0dd8ad-8779-4142-98b9-a7b4887c03b2",
   "metadata": {},
   "outputs": [
    {
     "name": "stdout",
     "output_type": "stream",
     "text": [
      "Cut #3\n",
      "Number of Signal Events with [SignalVolEFrac > 0.4 & SignalVolE > 5]: 89541\n",
      "Number of Cosmic Events with [SignalVolEFrac > 0.4 & SignalVolE > 5]: 126197\n",
      "Number of BRN Events with [SignalVolEFrac > 0.4 & SignalVolE > 5]: 23295\n"
     ]
    }
   ],
   "source": [
    "# Apply selection cut [SignalVolEFrac > 0.4 & SignalVolE > 5]\n",
    "\n",
    "print(\"Cut #3\")\n",
    "\n",
    "n = 0\n",
    "for psenergy, senergy in np.column_stack((signal_segment_data['psenergy'], signal_segment_data['senergy'])):\n",
    "    if psenergy > 0.4 and senergy > 5:\n",
    "        n += 1\n",
    "\n",
    "print(\"Number of Signal Events with [SignalVolEFrac > 0.4 & SignalVolE > 5]: \" + str(n))\n",
    "\n",
    "n = 0\n",
    "for psenergy, senergy in np.column_stack((cosmics_segment_data['psenergy'], cosmics_segment_data['senergy'])):\n",
    "    if psenergy > 0.4 and senergy > 5:\n",
    "        n += 1\n",
    "\n",
    "print(\"Number of Cosmic Events with [SignalVolEFrac > 0.4 & SignalVolE > 5]: \" + str(n))\n",
    "\n",
    "n = 0\n",
    "for psenergy, senergy in np.column_stack((BRN_segment_data['psenergy'], BRN_segment_data['senergy'])):\n",
    "    if psenergy > 0.4 and senergy > 5:\n",
    "        n += 1\n",
    "\n",
    "print(\"Number of BRN Events with [SignalVolEFrac > 0.4 & SignalVolE > 5]: \" + str(n))"
   ]
  },
  {
   "cell_type": "code",
   "execution_count": 30,
   "id": "a3026fd8-2c25-407c-bfb0-6b5feec940ff",
   "metadata": {},
   "outputs": [
    {
     "name": "stdout",
     "output_type": "stream",
     "text": [
      "Cut #4\n",
      "Number of Signal Events with [SignalVolEFrac > 0.4 & SignalVolE > 5 & MaxE > 5 & TotalE < 52 & TotalE > 10]: 88376\n",
      "Number of Cosmic Events with [SignalVolEFrac > 0.4 & SignalVolE > 5 & MaxE > 5 & TotalE < 52 & TotalE > 10]: 2701\n",
      "Number of BRN Events with [SignalVolEFrac > 0.4 & SignalVolE > 5 & MaxE > 5 & TotalE < 52 & TotalE > 10]: 7483\n"
     ]
    }
   ],
   "source": [
    "# Apply selection cut [SignalVolEFrac > 0.4 & SignalVolE > 5 & MaxE > 5 & TotalE < 52 & TotalE > 10]\n",
    "\n",
    "print(\"Cut #4\")\n",
    "\n",
    "n = 0\n",
    "for psenergy, senergy, lcte, aenergy in np.column_stack((signal_segment_data['psenergy'], signal_segment_data['senergy'], signal_segment_data['lctes'], signal_segment_data['aenergy'])):\n",
    "    if psenergy > 0.4 and senergy > 5 and lcte > 5 and aenergy < 52 and aenergy > 10:\n",
    "        n += 1\n",
    "\n",
    "print(\"Number of Signal Events with [SignalVolEFrac > 0.4 & SignalVolE > 5 & MaxE > 5 & TotalE < 52 & TotalE > 10]: \" + str(n))\n",
    "\n",
    "n = 0\n",
    "for psenergy, senergy, lcte, aenergy in np.column_stack((cosmics_segment_data['psenergy'], cosmics_segment_data['senergy'], cosmics_segment_data['lctes'], cosmics_segment_data['aenergy'])):\n",
    "    if psenergy > 0.4 and senergy > 5 and lcte > 5 and aenergy < 52 and aenergy > 10:\n",
    "        n += 1\n",
    "\n",
    "print(\"Number of Cosmic Events with [SignalVolEFrac > 0.4 & SignalVolE > 5 & MaxE > 5 & TotalE < 52 & TotalE > 10]: \" + str(n))\n",
    "\n",
    "n = 0\n",
    "for psenergy, senergy, lcte, aenergy in np.column_stack((BRN_segment_data['psenergy'], BRN_segment_data['senergy'], BRN_segment_data['lctes'], BRN_segment_data['aenergy'])):\n",
    "    if psenergy > 0.4 and senergy > 5 and lcte > 5 and aenergy < 52 and aenergy > 10:\n",
    "        n += 1\n",
    "\n",
    "print(\"Number of BRN Events with [SignalVolEFrac > 0.4 & SignalVolE > 5 & MaxE > 5 & TotalE < 52 & TotalE > 10]: \" + str(n))"
   ]
  },
  {
   "cell_type": "code",
   "execution_count": 31,
   "id": "1f172ea2-ea0d-4279-a1ca-d30590edcb00",
   "metadata": {},
   "outputs": [
    {
     "name": "stdout",
     "output_type": "stream",
     "text": [
      "Cut #5\n",
      "Number of Signal Events with [SignalVolEFrac > 0.4 & SignalVolE > 5 & MaxE > 5 & TotalE < 52 & TotalE > 10 & pMaxE < 35]: 88376\n",
      "Number of Cosmic Events with [SignalVolEFrac > 0.4 & SignalVolE > 5 & MaxE > 5 & TotalE < 52 & TotalE > 10 & pMaxE < 35]: 2701\n",
      "Number of BRN Events with [SignalVolEFrac > 0.4 & SignalVolE > 5 & MaxE > 5 & TotalE < 52 & TotalE > 10 & pMaxE < 35]: 7175\n"
     ]
    }
   ],
   "source": [
    "# Apply selection cut [SignalVolEFrac > 0.4 & SignalVolE > 5 & MaxE > 5 & TotalE < 52 & TotalE > 10 & pMaxE < 35]\n",
    "\n",
    "print(\"Cut #5\")\n",
    "\n",
    "n = 0\n",
    "for psenergy, senergy, lcte, aenergy, pmaxe in np.column_stack((signal_segment_data['psenergy'], signal_segment_data['senergy'], signal_segment_data['lctes'], signal_segment_data['aenergy'], signal_selection_data['pmaxe'])):\n",
    "    if psenergy > 0.4 and senergy > 5 and lcte > 5 and aenergy < 52 and aenergy > 10 and pmaxe < 35:\n",
    "        n += 1\n",
    "\n",
    "print(\"Number of Signal Events with [SignalVolEFrac > 0.4 & SignalVolE > 5 & MaxE > 5 & TotalE < 52 & TotalE > 10 & pMaxE < 35]: \" + str(n))\n",
    "\n",
    "n = 0\n",
    "for psenergy, senergy, lcte, aenergy, pmaxe in np.column_stack((cosmics_segment_data['psenergy'], cosmics_segment_data['senergy'], cosmics_segment_data['lctes'], cosmics_segment_data['aenergy'], cosmics_selection_data['pmaxe'])):\n",
    "    if psenergy > 0.4 and senergy > 5 and lcte > 5 and aenergy < 52 and aenergy > 10 and pmaxe < 35:\n",
    "        n += 1\n",
    "\n",
    "print(\"Number of Cosmic Events with [SignalVolEFrac > 0.4 & SignalVolE > 5 & MaxE > 5 & TotalE < 52 & TotalE > 10 & pMaxE < 35]: \" + str(n))\n",
    "\n",
    "n = 0\n",
    "for psenergy, senergy, lcte, aenergy, pmaxe in np.column_stack((BRN_segment_data['psenergy'], BRN_segment_data['senergy'], BRN_segment_data['lctes'], BRN_segment_data['aenergy'], BRN_selection_data['pmaxe'])):\n",
    "    if psenergy > 0.4 and senergy > 5 and lcte > 5 and aenergy < 52 and aenergy > 10 and pmaxe < 35:\n",
    "        n += 1\n",
    "\n",
    "print(\"Number of BRN Events with [SignalVolEFrac > 0.4 & SignalVolE > 5 & MaxE > 5 & TotalE < 52 & TotalE > 10 & pMaxE < 35]: \" + str(n))"
   ]
  },
  {
   "cell_type": "code",
   "execution_count": 32,
   "id": "4d829b29-1351-4012-8976-e109f7a0131b",
   "metadata": {},
   "outputs": [
    {
     "name": "stdout",
     "output_type": "stream",
     "text": [
      "Cut #6\n",
      "Number of Signal Events with [SignalVolEFrac > 0.4 & SignalVolE > 5 & MaxE > 5 & TotalE < 52 & TotalE > 10 & pMaxE < 35 & MaxELength > 1.5]: 87959\n",
      "Number of Cosmic Events with [SignalVolEFrac > 0.4 & SignalVolE > 5 & MaxE > 5 & TotalE < 52 & TotalE > 10 & pMaxE < 35 & MaxELength > 1.5]: 2698\n",
      "Number of BRN Events with [SignalVolEFrac > 0.4 & SignalVolE > 5 & MaxE > 5 & TotalE < 52 & TotalE > 10 & pMaxE < 35 & MaxELength > 1.5]: 797\n"
     ]
    }
   ],
   "source": [
    "# Apply selection cut [SignalVolEFrac > 0.4 & SignalVolE > 5 & MaxE > 5 & TotalE < 52 & TotalE > 10 & pMaxE < 35 & MaxELength > 1.5]\n",
    "\n",
    "print(\"Cut #6\")\n",
    "\n",
    "n = 0\n",
    "for psenergy, senergy, lcte, aenergy, pmaxe, lctl in np.column_stack((signal_segment_data['psenergy'], signal_segment_data['senergy'], signal_segment_data['lctes'], signal_segment_data['aenergy'], signal_selection_data['pmaxe'], signal_segment_data['lctls'])):\n",
    "    if psenergy > 0.4 and senergy > 5 and lcte > 5 and aenergy < 52 and aenergy > 10 and pmaxe < 35 and lctl > 1.5:\n",
    "        n += 1\n",
    "\n",
    "print(\"Number of Signal Events with [SignalVolEFrac > 0.4 & SignalVolE > 5 & MaxE > 5 & TotalE < 52 & TotalE > 10 & pMaxE < 35 & MaxELength > 1.5]: \" + str(n))\n",
    "\n",
    "n = 0\n",
    "for psenergy, senergy, lcte, aenergy, pmaxe, lctl in np.column_stack((cosmics_segment_data['psenergy'], cosmics_segment_data['senergy'], cosmics_segment_data['lctes'], cosmics_segment_data['aenergy'], cosmics_selection_data['pmaxe'], cosmics_segment_data['lctls'])):\n",
    "    if psenergy > 0.4 and senergy > 5 and lcte > 5 and aenergy < 52 and aenergy > 10 and pmaxe < 35 and lctl > 1.5:\n",
    "        n += 1\n",
    "\n",
    "print(\"Number of Cosmic Events with [SignalVolEFrac > 0.4 & SignalVolE > 5 & MaxE > 5 & TotalE < 52 & TotalE > 10 & pMaxE < 35 & MaxELength > 1.5]: \" + str(n))\n",
    "\n",
    "n = 0\n",
    "for psenergy, senergy, lcte, aenergy, pmaxe, lctl in np.column_stack((BRN_segment_data['psenergy'], BRN_segment_data['senergy'], BRN_segment_data['lctes'], BRN_segment_data['aenergy'], BRN_selection_data['pmaxe'], BRN_segment_data['lctls'])):\n",
    "    if psenergy > 0.4 and senergy > 5 and lcte > 5 and aenergy < 52 and aenergy > 10 and pmaxe < 35 and lctl > 1.5:\n",
    "        n += 1\n",
    "\n",
    "print(\"Number of BRN Events with [SignalVolEFrac > 0.4 & SignalVolE > 5 & MaxE > 5 & TotalE < 52 & TotalE > 10 & pMaxE < 35 & MaxELength > 1.5]: \" + str(n))"
   ]
  },
  {
   "cell_type": "code",
   "execution_count": 33,
   "id": "beb9727b-22b4-4a15-9534-4f913df7e401",
   "metadata": {},
   "outputs": [
    {
     "name": "stdout",
     "output_type": "stream",
     "text": [
      "Cut #7\n",
      "Number of Signal Events with [SignalVolEFrac > 0.4 & SignalVolE > 5 & MaxE > 5 & TotalE < 52 & TotalE > 10 & pMaxE < 35 & all CRT panels < 1]: 80511\n",
      "Number of Cosmic Events with [SignalVolEFrac > 0.4 & SignalVolE > 5 & MaxE > 5 & TotalE < 52 & TotalE > 10 & pMaxE < 35 & all CRT panels < 1]: 550\n",
      "Number of BRN Events with [SignalVolEFrac > 0.4 & SignalVolE > 5 & MaxE > 5 & TotalE < 52 & TotalE > 10 & pMaxE < 35 & all CRT panels < 1]: 1394\n"
     ]
    }
   ],
   "source": [
    "# Apply selection cut [SignalVolEFrac > 0.4 & SignalVolE > 5 & MaxE > 5 & TotalE < 52 & TotalE > 10 & pMaxE < 35 & all CRT panels < 1]\n",
    "\n",
    "print(\"Cut #7\")\n",
    "\n",
    "n = 0\n",
    "for psenergy, senergy, lcte, aenergy, pmaxe, crt in np.column_stack((signal_segment_data['psenergy'], signal_segment_data['senergy'], signal_segment_data['lctes'], signal_segment_data['aenergy'], signal_selection_data['pmaxe'], signal_selection_data['crt'])):\n",
    "    if psenergy > 0.4 and senergy > 5 and lcte > 5 and aenergy < 52 and aenergy > 10 and pmaxe < 35 and crt < 1:\n",
    "        n += 1\n",
    "\n",
    "print(\"Number of Signal Events with [SignalVolEFrac > 0.4 & SignalVolE > 5 & MaxE > 5 & TotalE < 52 & TotalE > 10 & pMaxE < 35 & all CRT panels < 1]: \" + str(n))\n",
    "\n",
    "n = 0\n",
    "for psenergy, senergy, lcte, aenergy, pmaxe, crt in np.column_stack((cosmics_segment_data['psenergy'], cosmics_segment_data['senergy'], cosmics_segment_data['lctes'], cosmics_segment_data['aenergy'], cosmics_selection_data['pmaxe'], cosmics_selection_data['crt'])):\n",
    "    if psenergy > 0.4 and senergy > 5 and lcte > 5 and aenergy < 52 and aenergy > 10 and pmaxe < 35 and crt < 1:\n",
    "        n += 1\n",
    "\n",
    "print(\"Number of Cosmic Events with [SignalVolEFrac > 0.4 & SignalVolE > 5 & MaxE > 5 & TotalE < 52 & TotalE > 10 & pMaxE < 35 & all CRT panels < 1]: \" + str(n))\n",
    "\n",
    "n = 0\n",
    "for psenergy, senergy, lcte, aenergy, pmaxe, crt in np.column_stack((BRN_segment_data['psenergy'], BRN_segment_data['senergy'], BRN_segment_data['lctes'], BRN_segment_data['aenergy'], BRN_selection_data['pmaxe'], BRN_selection_data['crt'])):\n",
    "    if psenergy > 0.4 and senergy > 5 and lcte > 5 and aenergy < 52 and aenergy > 10 and pmaxe < 35 and crt < 1:\n",
    "        n += 1\n",
    "\n",
    "print(\"Number of BRN Events with [SignalVolEFrac > 0.4 & SignalVolE > 5 & MaxE > 5 & TotalE < 52 & TotalE > 10 & pMaxE < 35 & all CRT panels < 1]: \" + str(n))"
   ]
  },
  {
   "cell_type": "code",
   "execution_count": 34,
   "id": "463f07f0-4ffe-40d4-9f84-358c700b3cf2",
   "metadata": {},
   "outputs": [
    {
     "name": "stdout",
     "output_type": "stream",
     "text": [
      "Cut #8\n",
      "Number of Signal Events with [SignalVolEFrac > 0.4 & SignalVolE > 5 & MaxE > 5 & TotalE < 52 & TotalE > 10 & all CRT panels < 1]: 80511\n",
      "Number of Cosmic Events with [SignalVolEFrac > 0.4 & SignalVolE > 5 & MaxE > 5 & TotalE < 52 & TotalE > 10 & all CRT panels < 1]: 550\n",
      "Number of BRN Events with [SignalVolEFrac > 0.4 & SignalVolE > 5 & MaxE > 5 & TotalE < 52 & TotalE > 10 & all CRT panels < 1]: 1506\n"
     ]
    }
   ],
   "source": [
    "# Apply selection cut [SignalVolEFrac > 0.4 & SignalVolE > 5 & MaxE > 5 & TotalE < 52 & TotalE > 10 & all CRT panels < 1]\n",
    "\n",
    "print(\"Cut #8\")\n",
    "\n",
    "n = 0\n",
    "for psenergy, senergy, lcte, aenergy, crt in np.column_stack((signal_segment_data['psenergy'], signal_segment_data['senergy'], signal_segment_data['lctes'], signal_segment_data['aenergy'], signal_selection_data['crt'])):\n",
    "    if psenergy > 0.4 and senergy > 5 and lcte > 5 and aenergy < 52 and aenergy > 10 and crt < 1:\n",
    "        n += 1\n",
    "\n",
    "print(\"Number of Signal Events with [SignalVolEFrac > 0.4 & SignalVolE > 5 & MaxE > 5 & TotalE < 52 & TotalE > 10 & all CRT panels < 1]: \" + str(n))\n",
    "\n",
    "n = 0\n",
    "for psenergy, senergy, lcte, aenergy, crt in np.column_stack((cosmics_segment_data['psenergy'], cosmics_segment_data['senergy'], cosmics_segment_data['lctes'], cosmics_segment_data['aenergy'], cosmics_selection_data['crt'])):\n",
    "    if psenergy > 0.4 and senergy > 5 and lcte > 5 and aenergy < 52 and aenergy > 10 and crt < 1:\n",
    "        n += 1\n",
    "\n",
    "print(\"Number of Cosmic Events with [SignalVolEFrac > 0.4 & SignalVolE > 5 & MaxE > 5 & TotalE < 52 & TotalE > 10 & all CRT panels < 1]: \" + str(n))\n",
    "\n",
    "n = 0\n",
    "for psenergy, senergy, lcte, aenergy, crt in np.column_stack((BRN_segment_data['psenergy'], BRN_segment_data['senergy'], BRN_segment_data['lctes'], BRN_segment_data['aenergy'], BRN_selection_data['crt'])):\n",
    "    if psenergy > 0.4 and senergy > 5 and lcte > 5 and aenergy < 52 and aenergy > 10 and crt < 1:\n",
    "        n += 1\n",
    "\n",
    "print(\"Number of BRN Events with [SignalVolEFrac > 0.4 & SignalVolE > 5 & MaxE > 5 & TotalE < 52 & TotalE > 10 & all CRT panels < 1]: \" + str(n))"
   ]
  },
  {
   "cell_type": "code",
   "execution_count": 35,
   "id": "0ebc1948-8f05-49e8-9fa1-286589df4b17",
   "metadata": {},
   "outputs": [
    {
     "name": "stdout",
     "output_type": "stream",
     "text": [
      "Cut #9\n",
      "Number of Signal Events with [SignalVolEFrac > 0.4 & SignalVolE > 5 & MaxE > 5 & TotalE < 52 & TotalE > 10 & MaxELength > 1.5 & all CRT panels < 1 & Light]: 79171\n",
      "Number of Cosmic Events with [SignalVolEFrac > 0.4 & SignalVolE > 5 & MaxE > 5 & TotalE < 52 & TotalE > 10 & MaxELength > 1.5 & all CRT panels < 1 & Light]: 24\n",
      "Number of BRN Events with [SignalVolEFrac > 0.4 & SignalVolE > 5 & MaxE > 5 & TotalE < 52 & TotalE > 10 & MaxELength > 1.5 & all CRT panels < 1 & Light]: 211\n"
     ]
    }
   ],
   "source": [
    "# Apply selection cut [SignalVolEFrac > 0.4 & SignalVolE > 5 & MaxE > 5 & TotalE < 52 & TotalE > 10 & MaxELength > 1.5 & all CRT panels < 1 & Light]\n",
    "\n",
    "print(\"Cut #9\")\n",
    "\n",
    "n = 0\n",
    "for psenergy, senergy, lcte, aenergy, lctl, crt, light in np.column_stack((signal_segment_data['psenergy'], signal_segment_data['senergy'], signal_segment_data['lctes'], signal_segment_data['aenergy'], signal_segment_data['lctls'], signal_selection_data['crt'], signal_selection_data['light'])):\n",
    "    if psenergy > 0.4 and senergy > 5 and lcte > 5 and aenergy < 52 and aenergy > 10 and lctl > 1.5 and crt < 1 and light >= 0 and light <= 10:\n",
    "        n += 1\n",
    "\n",
    "print(\"Number of Signal Events with [SignalVolEFrac > 0.4 & SignalVolE > 5 & MaxE > 5 & TotalE < 52 & TotalE > 10 & MaxELength > 1.5 & all CRT panels < 1 & Light]: \" + str(n))\n",
    "\n",
    "n = 0\n",
    "for psenergy, senergy, lcte, aenergy, lctl, crt, light in np.column_stack((cosmics_segment_data['psenergy'], cosmics_segment_data['senergy'], cosmics_segment_data['lctes'], cosmics_segment_data['aenergy'], cosmics_segment_data['lctls'], cosmics_selection_data['crt'], cosmics_selection_data['light'])):\n",
    "    if psenergy > 0.4 and senergy > 5 and lcte > 5 and aenergy < 52 and aenergy > 10 and lctl > 1.5 and crt < 1 and light >= 0 and light <= 10:\n",
    "        n += 1\n",
    "\n",
    "print(\"Number of Cosmic Events with [SignalVolEFrac > 0.4 & SignalVolE > 5 & MaxE > 5 & TotalE < 52 & TotalE > 10 & MaxELength > 1.5 & all CRT panels < 1 & Light]: \" + str(n))\n",
    "\n",
    "n = 0\n",
    "for psenergy, senergy, lcte, aenergy, lctl, crt, light in np.column_stack((BRN_segment_data['psenergy'], BRN_segment_data['senergy'], BRN_segment_data['lctes'], BRN_segment_data['aenergy'], BRN_segment_data['lctls'], BRN_selection_data['crt'], BRN_selection_data['light'])):\n",
    "    if psenergy > 0.4 and senergy > 5 and lcte > 5 and aenergy < 52 and aenergy > 10 and lctl > 1.5 and crt < 1 and light >= 0 and light <= 10:\n",
    "        n += 1\n",
    "\n",
    "print(\"Number of BRN Events with [SignalVolEFrac > 0.4 & SignalVolE > 5 & MaxE > 5 & TotalE < 52 & TotalE > 10 & MaxELength > 1.5 & all CRT panels < 1 & Light]: \" + str(n))"
   ]
  },
  {
   "cell_type": "code",
   "execution_count": 36,
   "id": "3ceafaa9-70f7-4aa2-9b85-1dc26ec7d201",
   "metadata": {},
   "outputs": [
    {
     "name": "stdout",
     "output_type": "stream",
     "text": [
      "Cut #10\n",
      "Number of Signal Events with [SignalVolEFrac > 0.4 & SignalVolE > 5 & MaxE > 5 & TotalE < 52 & TotalE > 10 & pMaxE < 20 & MaxELength > 1.5 & all CRT panels < 1 & Light]: 79171\n",
      "Number of Cosmic Events with [SignalVolEFrac > 0.4 & SignalVolE > 5 & MaxE > 5 & TotalE < 52 & TotalE > 10 & pMaxE < 20 & MaxELength > 1.5 & all CRT panels < 1 & Light]: 24\n",
      "Number of BRN Events with [SignalVolEFrac > 0.4 & SignalVolE > 5 & MaxE > 5 & TotalE < 52 & TotalE > 10 & pMaxE < 20 & MaxELength > 1.5 & all CRT panels < 1 & Light]: 133\n"
     ]
    }
   ],
   "source": [
    "# Apply selection cut [SignalVolEFrac > 0.4 & SignalVolE > 5 & MaxE > 5 & TotalE < 52 & TotalE > 10 & pMaxE < 20 & MaxELength > 1.5 all CRT panels < 1 & Light]\n",
    "\n",
    "print(\"Cut #10\")\n",
    "\n",
    "n = 0\n",
    "for psenergy, senergy, lcte, aenergy, pmaxe, lctl, crt, light in np.column_stack((signal_segment_data['psenergy'], signal_segment_data['senergy'], signal_segment_data['lctes'], signal_segment_data['aenergy'], signal_selection_data['pmaxe'], signal_segment_data['lctls'], signal_selection_data['crt'], signal_selection_data['light'])):\n",
    "    if psenergy > 0.4 and senergy > 5 and lcte > 5 and aenergy < 52 and aenergy > 10 and pmaxe < 20 and lctl > 1.5 and crt < 1 and light >= 0 and light <= 10:\n",
    "        n += 1\n",
    "\n",
    "print(\"Number of Signal Events with [SignalVolEFrac > 0.4 & SignalVolE > 5 & MaxE > 5 & TotalE < 52 & TotalE > 10 & pMaxE < 20 & MaxELength > 1.5 & all CRT panels < 1 & Light]: \" + str(n))\n",
    "\n",
    "n = 0\n",
    "for psenergy, senergy, lcte, aenergy, pmaxe, lctl, crt, light in np.column_stack((cosmics_segment_data['psenergy'], cosmics_segment_data['senergy'], cosmics_segment_data['lctes'], cosmics_segment_data['aenergy'], cosmics_selection_data['pmaxe'], cosmics_segment_data['lctls'], cosmics_selection_data['crt'], cosmics_selection_data['light'])):\n",
    "    if psenergy > 0.4 and senergy > 5 and lcte > 5 and aenergy < 52 and aenergy > 10 and pmaxe < 20 and lctl > 1.5 and crt < 1 and light >= 0 and light <= 10:\n",
    "        n += 1\n",
    "\n",
    "print(\"Number of Cosmic Events with [SignalVolEFrac > 0.4 & SignalVolE > 5 & MaxE > 5 & TotalE < 52 & TotalE > 10 & pMaxE < 20 & MaxELength > 1.5 & all CRT panels < 1 & Light]: \" + str(n))\n",
    "\n",
    "n = 0\n",
    "for psenergy, senergy, lcte, aenergy, pmaxe, lctl, crt, light in np.column_stack((BRN_segment_data['psenergy'], BRN_segment_data['senergy'], BRN_segment_data['lctes'], BRN_segment_data['aenergy'], BRN_selection_data['pmaxe'], BRN_segment_data['lctls'], BRN_selection_data['crt'], BRN_selection_data['light'])):\n",
    "    if psenergy > 0.4 and senergy > 5 and lcte > 5 and aenergy < 52 and aenergy > 10 and pmaxe < 20 and lctl > 1.5 and crt < 1 and light >= 0 and light <= 10:\n",
    "        n += 1\n",
    "\n",
    "print(\"Number of BRN Events with [SignalVolEFrac > 0.4 & SignalVolE > 5 & MaxE > 5 & TotalE < 52 & TotalE > 10 & pMaxE < 20 & MaxELength > 1.5 & all CRT panels < 1 & Light]: \" + str(n))"
   ]
  },
  {
   "cell_type": "code",
   "execution_count": 37,
   "id": "b32c890f-59e1-48b0-aff5-1f7a5be63bb2",
   "metadata": {},
   "outputs": [
    {
     "name": "stdout",
     "output_type": "stream",
     "text": [
      "Cut #11\n",
      "Number of Signal Events with [SignalVolEFrac > 0.1 & SignalVolE > 5.01 & MaxE > 5 & TotalE < 52 & TotalE > 9.99 & pMaxE < 20 & MaxELength > 2 & all CRT panels < 1.16 & Light]: 85797\n",
      "Number of Cosmic Events with [SignalVolEFrac > 0.1 & SignalVolE > 5.01 & MaxE > 5 & TotalE < 52 & TotalE > 9.99 & pMaxE < 20 & MaxELength > 2 & all CRT panels < 1.16 & Light]: 25\n",
      "Number of BRN Events with [SignalVolEFrac > 0.1 & SignalVolE > 5.01 & MaxE > 5 & TotalE < 52 & TotalE > 9.99 & pMaxE < 20 & MaxELength > 2 & all CRT panels < 1.16 & Light]: 141\n"
     ]
    }
   ],
   "source": [
    "# Apply selection cut [SignalVolEFrac > 0.1 & SignalVolE > 5 & MaxE > 5.01 & TotalE < 52 & TotalE > 9.99 & pMaxE < 20 & MaxELength > 2 & all CRT panels < 1.16 & Light]\n",
    "\n",
    "print(\"Cut #11\")\n",
    "\n",
    "n = 0\n",
    "for psenergy, senergy, lcte, aenergy, pmaxe, lctl, crt, light in np.column_stack((signal_segment_data['psenergy'], signal_segment_data['senergy'], signal_segment_data['lctes'], signal_segment_data['aenergy'], signal_selection_data['pmaxe'], signal_segment_data['lctls'], signal_selection_data['crt'], signal_selection_data['light'])):\n",
    "    if psenergy > 0.1 and senergy > 5 and lcte > 5.01 and aenergy < 52 and aenergy > 9.99 and pmaxe < 20 and lctl > 2 and crt < 1.16 and light >= 0 and light <= 10:\n",
    "        n += 1\n",
    "\n",
    "print(\"Number of Signal Events with [SignalVolEFrac > 0.1 & SignalVolE > 5.01 & MaxE > 5 & TotalE < 52 & TotalE > 9.99 & pMaxE < 20 & MaxELength > 2 & all CRT panels < 1.16 & Light]: \" + str(n))\n",
    "\n",
    "n = 0\n",
    "for psenergy, senergy, lcte, aenergy, pmaxe, lctl, crt, light in np.column_stack((cosmics_segment_data['psenergy'], cosmics_segment_data['senergy'], cosmics_segment_data['lctes'], cosmics_segment_data['aenergy'], cosmics_selection_data['pmaxe'], cosmics_segment_data['lctls'], cosmics_selection_data['crt'], cosmics_selection_data['light'])):\n",
    "    if psenergy > 0.1 and senergy > 5 and lcte > 5.01 and aenergy < 52 and aenergy > 9.99 and pmaxe < 20 and lctl > 2 and crt < 1.16 and light >= 0 and light <= 10:\n",
    "        n += 1\n",
    "\n",
    "print(\"Number of Cosmic Events with [SignalVolEFrac > 0.1 & SignalVolE > 5.01 & MaxE > 5 & TotalE < 52 & TotalE > 9.99 & pMaxE < 20 & MaxELength > 2 & all CRT panels < 1.16 & Light]: \" + str(n))\n",
    "\n",
    "n = 0\n",
    "for psenergy, senergy, lcte, aenergy, pmaxe, lctl, crt, light in np.column_stack((BRN_segment_data['psenergy'], BRN_segment_data['senergy'], BRN_segment_data['lctes'], BRN_segment_data['aenergy'], BRN_selection_data['pmaxe'], BRN_segment_data['lctls'], BRN_selection_data['crt'], BRN_selection_data['light'])):\n",
    "    if psenergy > 0.1 and senergy > 5 and lcte > 5.01 and aenergy < 52 and aenergy > 9.99 and pmaxe < 20 and lctl > 2 and crt < 1.16 and light >= 0 and light <= 10:\n",
    "        n += 1\n",
    "\n",
    "print(\"Number of BRN Events with [SignalVolEFrac > 0.1 & SignalVolE > 5.01 & MaxE > 5 & TotalE < 52 & TotalE > 9.99 & pMaxE < 20 & MaxELength > 2 & all CRT panels < 1.16 & Light]: \" + str(n))"
   ]
  },
  {
   "cell_type": "code",
   "execution_count": 40,
   "id": "e35ed3bb-1143-4609-91e8-64ebe773f880",
   "metadata": {},
   "outputs": [
    {
     "name": "stdout",
     "output_type": "stream",
     "text": [
      "Cut #12\n",
      "Number of Signal Events with [SignalVolEFrac > 0.1 & SignalVolE > 5.01 & MaxE > 5 & TotalE < 52 & TotalE > 9.99 & pMaxE < 20 & MaxELength > 2 & (YZAngle < 0.41pi or 0.48pi < YZAngle < 0.53pi or YZAngle > 0.65pi) & all CRT panels < 1.16 & Light]: 73243\n",
      "Number of Cosmic Events with [SignalVolEFrac > 0.1 & SignalVolE > 5.01 & MaxE > 5 & TotalE < 52 & TotalE > 9.99 & pMaxE < 20 & MaxELength > 2 & (YZAngle < 0.41pi or 0.48pi < YZAngle < 0.53pi or YZAngle > 0.65pi) & all CRT panels < 1.16 & Light]: 13\n",
      "Number of BRN Events with [SignalVolEFrac > 0.1 & SignalVolE > 5.01 & MaxE > 5 & TotalE < 52 & TotalE > 9.99 & pMaxE < 20 & MaxELength > 2 & (YZAngle < 0.41pi or 0.48pi < YZAngle < 0.53pi or YZAngle > 0.65pi) & all CRT panels < 1.16 & Light]: 125\n"
     ]
    }
   ],
   "source": [
    "# Apply selection cut [SignalVolEFrac > 0.1 & SignalVolE > 5 & MaxE > 5.01 & TotalE < 52 & TotalE > 9.99 & pMaxE < 20 & MaxELength > 2 & (YZAngle < 0.41pi or 0.48pi < YZAngle < 0.53pi or YZAngle > 0.65pi) & all CRT panels < 1.16 & Light]\n",
    "\n",
    "print(\"Cut #12\")\n",
    "\n",
    "n = 0\n",
    "for psenergy, senergy, lcte, aenergy, pmaxe, lctl, pangle2, crt, light in np.column_stack((signal_segment_data['psenergy'], signal_segment_data['senergy'], signal_segment_data['lctes'], signal_segment_data['aenergy'], signal_selection_data['pmaxe'], signal_segment_data['lctls'], signal_selection_data['pangle2'], signal_selection_data['crt'], signal_selection_data['light'])):\n",
    "    if psenergy > 0.1 and senergy > 5 and lcte > 5.01 and aenergy < 52 and aenergy > 9.99 and pmaxe < 20 and lctl > 2 and (pangle2 < 0.41*np.pi or (pangle2 > 0.48*np.pi and pangle2 < 0.53*np.pi) or pangle2 > 0.65*np.pi) and crt < 1.16 and light >= 0 and light <= 10:\n",
    "        n += 1\n",
    "\n",
    "print(\"Number of Signal Events with [SignalVolEFrac > 0.1 & SignalVolE > 5.01 & MaxE > 5 & TotalE < 52 & TotalE > 9.99 & pMaxE < 20 & MaxELength > 2 & (YZAngle < 0.41pi or 0.48pi < YZAngle < 0.53pi or YZAngle > 0.65pi) & all CRT panels < 1.16 & Light]: \" + str(n))\n",
    "\n",
    "n = 0\n",
    "for psenergy, senergy, lcte, aenergy, pmaxe, lctl, pangle2, crt, light in np.column_stack((cosmics_segment_data['psenergy'], cosmics_segment_data['senergy'], cosmics_segment_data['lctes'], cosmics_segment_data['aenergy'], cosmics_selection_data['pmaxe'], cosmics_segment_data['lctls'], cosmics_selection_data['pangle2'], cosmics_selection_data['crt'], cosmics_selection_data['light'])):\n",
    "    if psenergy > 0.1 and senergy > 5 and lcte > 5.01 and aenergy < 52 and aenergy > 9.99 and pmaxe < 20 and lctl > 2 and (pangle2 < 0.41*np.pi or (pangle2 > 0.48*np.pi and pangle2 < 0.53*np.pi) or pangle2 > 0.65*np.pi) and crt < 1.16 and light >= 0 and light <= 10:\n",
    "        n += 1\n",
    "\n",
    "print(\"Number of Cosmic Events with [SignalVolEFrac > 0.1 & SignalVolE > 5.01 & MaxE > 5 & TotalE < 52 & TotalE > 9.99 & pMaxE < 20 & MaxELength > 2 & (YZAngle < 0.41pi or 0.48pi < YZAngle < 0.53pi or YZAngle > 0.65pi) & all CRT panels < 1.16 & Light]: \" + str(n))\n",
    "\n",
    "n = 0\n",
    "for psenergy, senergy, lcte, aenergy, pmaxe, lctl, pangle2, crt, light in np.column_stack((BRN_segment_data['psenergy'], BRN_segment_data['senergy'], BRN_segment_data['lctes'], BRN_segment_data['aenergy'], BRN_selection_data['pmaxe'], BRN_segment_data['lctls'], BRN_selection_data['pangle2'], BRN_selection_data['crt'], BRN_selection_data['light'])):\n",
    "    if psenergy > 0.1 and senergy > 5 and lcte > 5.01 and aenergy < 52 and aenergy > 9.99 and pmaxe < 20 and lctl > 2 and (pangle2 < 0.41*np.pi or (pangle2 > 0.48*np.pi and pangle2 < 0.53*np.pi) or pangle2 > 0.65*np.pi) and crt < 1.16 and light >= 0 and light <= 10:\n",
    "        n += 1\n",
    "\n",
    "print(\"Number of BRN Events with [SignalVolEFrac > 0.1 & SignalVolE > 5.01 & MaxE > 5 & TotalE < 52 & TotalE > 9.99 & pMaxE < 20 & MaxELength > 2 & (YZAngle < 0.41pi or 0.48pi < YZAngle < 0.53pi or YZAngle > 0.65pi) & all CRT panels < 1.16 & Light]: \" + str(n))"
   ]
  },
  {
   "cell_type": "code",
   "execution_count": 42,
   "id": "8e4c5dd5-3eee-4c5e-bebb-e60110d5757e",
   "metadata": {},
   "outputs": [
    {
     "name": "stdout",
     "output_type": "stream",
     "text": [
      "Cut #13\n",
      "Number of Signal Events with [SignalVolEFrac > 0.1 & SignalVolE > 5.01 & MaxE > 5 & TotalE < 52 & TotalE > 9.99 & pMaxE < 20 & MaxELength > 2 & (0.5pi < XYAngle < 0.66pi or YZAngle < 0.41pi or 0.48pi < YZAngle < 0.53pi or YZAngle > 0.65pi) & e3cm > 2.5 & all CRT panels < 1.16 & Light]: 74461\n",
      "Number of Cosmic Events with [SignalVolEFrac > 0.1 & SignalVolE > 5.01 & MaxE > 5 & TotalE < 52 & TotalE > 9.99 & pMaxE < 20 & MaxELength > 2 & (0.5pi < XYAngle < 0.66pi or YZAngle < 0.41pi or 0.48pi < YZAngle < 0.53pi or YZAngle > 0.65pi) & e3cm > 2.5 & all CRT panels < 1.16 & Light]: 13\n",
      "Number of BRN Events with [SignalVolEFrac > 0.1 & SignalVolE > 5.01 & MaxE > 5 & TotalE < 52 & TotalE > 9.99 & pMaxE < 20 & MaxELength > 2 & (0.5pi < XYAngle < 0.66pi or YZAngle < 0.41pi or 0.48pi < YZAngle < 0.53pi or YZAngle > 0.65pi) & e3cm > 2.5 & all CRT panels < 1.16 & Light]: 38\n"
     ]
    }
   ],
   "source": [
    "# Apply selection cut [SignalVolEFrac > 0.1 & SignalVolE > 5 & MaxE > 5.01 & TotalE < 52 & TotalE > 9.99 & pMaxE < 20 & MaxELength > 2 & ((XYAngle > 0.5pi and XYAngle < 0.66pi) or YZAngle < 0.41pi or 0.48pi < YZAngle < 0.53pi or YZAngle > 0.65pi) & e3cm > 2.5 & all CRT panels < 1.16 & Light]\n",
    "\n",
    "print(\"Cut #13\")\n",
    "\n",
    "n = 0\n",
    "for psenergy, senergy, lcte, aenergy, pmaxe, lctl, pangle, pangle2, e3cm, crt, light in np.column_stack((signal_segment_data['psenergy'], signal_segment_data['senergy'], signal_segment_data['lctes'], signal_segment_data['aenergy'], signal_selection_data['pmaxe'], signal_segment_data['lctls'], signal_selection_data['pangle'], signal_selection_data['pangle2'], signal_vertex_data['e3cm'], signal_selection_data['crt'], signal_selection_data['light'])):\n",
    "    if psenergy > 0.1 and senergy > 5 and lcte > 5.01 and aenergy < 52 and aenergy > 9.99 and pmaxe < 20 and lctl > 2 and ((pangle > 0.5*np.pi and pangle < 0.66*np.pi) or pangle2 < 0.41*np.pi or (pangle2 > 0.48*np.pi and pangle2 < 0.53*np.pi) or pangle2 > 0.65*np.pi) and e3cm > 2.5 and crt < 1.16 and light >= 0 and light <= 10:\n",
    "        n += 1\n",
    "\n",
    "print(\"Number of Signal Events with [SignalVolEFrac > 0.1 & SignalVolE > 5.01 & MaxE > 5 & TotalE < 52 & TotalE > 9.99 & pMaxE < 20 & MaxELength > 2 & (0.5pi < XYAngle < 0.66pi or YZAngle < 0.41pi or 0.48pi < YZAngle < 0.53pi or YZAngle > 0.65pi) & e3cm > 2.5 & all CRT panels < 1.16 & Light]: \" + str(n))\n",
    "\n",
    "n = 0\n",
    "for psenergy, senergy, lcte, aenergy, pmaxe, lctl, pangle, pangle2, e3cm, crt, light in np.column_stack((cosmics_segment_data['psenergy'], cosmics_segment_data['senergy'], cosmics_segment_data['lctes'], cosmics_segment_data['aenergy'], cosmics_selection_data['pmaxe'], cosmics_segment_data['lctls'], cosmics_selection_data['pangle'], cosmics_selection_data['pangle2'], cosmics_vertex_data['e3cm'], cosmics_selection_data['crt'], cosmics_selection_data['light'])):\n",
    "    if psenergy > 0.1 and senergy > 5 and lcte > 5.01 and aenergy < 52 and aenergy > 9.99 and pmaxe < 20 and lctl > 2 and ((pangle > 0.5*np.pi and pangle < 0.66*np.pi) or pangle2 < 0.41*np.pi or (pangle2 > 0.48*np.pi and pangle2 < 0.53*np.pi) or pangle2 > 0.65*np.pi) and e3cm > 2.5 and crt < 1.16 and light >= 0 and light <= 10:\n",
    "        n += 1\n",
    "\n",
    "print(\"Number of Cosmic Events with [SignalVolEFrac > 0.1 & SignalVolE > 5.01 & MaxE > 5 & TotalE < 52 & TotalE > 9.99 & pMaxE < 20 & MaxELength > 2 & (0.5pi < XYAngle < 0.66pi or YZAngle < 0.41pi or 0.48pi < YZAngle < 0.53pi or YZAngle > 0.65pi) & e3cm > 2.5 & all CRT panels < 1.16 & Light]: \" + str(n))\n",
    "\n",
    "n = 0\n",
    "for psenergy, senergy, lcte, aenergy, pmaxe, lctl, pangle, pangle2, e3cm, crt, light in np.column_stack((BRN_segment_data['psenergy'], BRN_segment_data['senergy'], BRN_segment_data['lctes'], BRN_segment_data['aenergy'], BRN_selection_data['pmaxe'], BRN_segment_data['lctls'], BRN_selection_data['pangle'], BRN_selection_data['pangle2'], BRN_vertex_data['e3cm'], BRN_selection_data['crt'], BRN_selection_data['light'])):\n",
    "    if psenergy > 0.1 and senergy > 5 and lcte > 5.01 and aenergy < 52 and aenergy > 9.99 and pmaxe < 20 and lctl > 2 and ((pangle > 0.5*np.pi and pangle < 0.66*np.pi) or pangle2 < 0.41*np.pi or (pangle2 > 0.48*np.pi and pangle2 < 0.53*np.pi) or pangle2 > 0.65*np.pi) and e3cm > 2.5 and crt < 1.16 and light >= 0 and light <= 10:\n",
    "        n += 1\n",
    "\n",
    "print(\"Number of BRN Events with [SignalVolEFrac > 0.1 & SignalVolE > 5.01 & MaxE > 5 & TotalE < 52 & TotalE > 9.99 & pMaxE < 20 & MaxELength > 2 & (0.5pi < XYAngle < 0.66pi or YZAngle < 0.41pi or 0.48pi < YZAngle < 0.53pi or YZAngle > 0.65pi) & e3cm > 2.5 & all CRT panels < 1.16 & Light]: \" + str(n))"
   ]
  },
  {
   "cell_type": "code",
   "execution_count": null,
   "id": "3daf120a-04e6-4a8b-aad5-163d74c5553a",
   "metadata": {},
   "outputs": [],
   "source": []
  }
 ],
 "metadata": {
  "kernelspec": {
   "display_name": "Python 3 (ipykernel)",
   "language": "python",
   "name": "python3"
  },
  "language_info": {
   "codemirror_mode": {
    "name": "ipython",
    "version": 3
   },
   "file_extension": ".py",
   "mimetype": "text/x-python",
   "name": "python",
   "nbconvert_exporter": "python",
   "pygments_lexer": "ipython3",
   "version": "3.10.12"
  }
 },
 "nbformat": 4,
 "nbformat_minor": 5
}
