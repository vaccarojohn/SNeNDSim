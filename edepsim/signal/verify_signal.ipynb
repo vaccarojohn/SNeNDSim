{
 "cells": [
  {
   "cell_type": "code",
   "execution_count": 2,
   "id": "20a16c87-7d69-4d98-ae56-6fe4964b570e",
   "metadata": {},
   "outputs": [
    {
     "name": "stdout",
     "output_type": "stream",
     "text": [
      "Welcome to JupyROOT 6.26/16\n"
     ]
    }
   ],
   "source": [
    "import h5py\n",
    "import ROOT\n",
    "import matplotlib.pyplot as plt\n",
    "import numpy as np\n",
    "\n",
    "f = h5py.File('/sdf/data/neutrino/yuntse/coherent/SNeNDSens/g4/NueArCC/nueArCC_sns_yDir_g4_0000.h5', 'r')"
   ]
  },
  {
   "cell_type": "code",
   "execution_count": 3,
   "id": "07b12900-af0c-44ec-bf97-e5e27ee9266f",
   "metadata": {},
   "outputs": [
    {
     "data": {
      "text/plain": [
       "4"
      ]
     },
     "execution_count": 3,
     "metadata": {},
     "output_type": "execute_result"
    }
   ],
   "source": [
    "f = h5py.File('/sdf/data/neutrino/yuntse/coherent/SNeNDSens/g4/test/CosmicFlux_g4_0000.h5', 'r')\n",
    "g = ROOT.TFile('/sdf/data/neutrino/yuntse/coherent/SNeNDSens/g4/test/CosmicFlux_g4_0000.root')\n",
    "events = g.Get(\"EDepSimEvents\")\n",
    "event = ROOT.TG4Event()\n",
    "events.SetBranchAddress(\"Event\",ROOT.AddressOf(event))"
   ]
  },
  {
   "cell_type": "code",
   "execution_count": 37,
   "id": "20ff7294-47a1-4073-9a37-229c5cd32236",
   "metadata": {},
   "outputs": [
    {
     "name": "stdout",
     "output_type": "stream",
     "text": [
      "1\n",
      "5.301491e-06\n",
      "1\n",
      "5.301491000864189e-06\n",
      "0.0\n"
     ]
    }
   ],
   "source": [
    "print(f['segments'][17]['traj_id'])\n",
    "print(f['segments'][17]['dE'])\n",
    "\n",
    "#print(f['segments'][0]['dE'])\n",
    "\n",
    "events.GetEntry(105)\n",
    "for containerName, hitSegments in event.SegmentDetectors:\n",
    "    print(hitSegments[0].Contrib[0])\n",
    "    print(hitSegments[0].GetEnergyDeposit())\n",
    "    print(hitSegments[0].GetSecondaryDeposit())"
   ]
  },
  {
   "cell_type": "markdown",
   "id": "35e6617e-81df-4f05-8734-9b5eaa529236",
   "metadata": {},
   "source": [
    "The following five cells contain functions for validating the output from edep-sim. Specifically, `check_vertices` ensures that there is one and only one vertex per event. The `check_segment_trajectories` function examines the ROOT output to make sure that each energy deposition segment has only one corresponding trajectory (see [https://github.com/DUNE/2x2_sim/issues/20](https://github.com/DUNE/2x2_sim/issues/20)). The `check_trajectories` function ensures that there are no missing trajectories in the HDF5 output, with one caveat. A hypothetical event with trajectory IDs 0, 1, and 3 will be flagged, yet `check_trajectories` cannot tell whether there should also be a trajectory 4. Then, `check_segments` is commented out because it checks whether a trajectory's `E_start - E_end` corresponds to the sum of the energy deposited in its segments. This is NOT true in general because edep-sim considers other physical processes besides energy deposition when determining the quantity `E_start - E_end`. Finally, `check_for_duplicate_primary_electrons` ensures that each event has only one primary electron."
   ]
  },
  {
   "cell_type": "code",
   "execution_count": null,
   "id": "a33fc97c-9ce8-4c6b-a23f-0d3d863777bc",
   "metadata": {},
   "outputs": [],
   "source": [
    "# This function ensures that `event_id` is monotonically increasing with the vertex number\n",
    "def check_vertices_well_formed(f):\n",
    "    print(\"Checking that vertices are well formed...\")\n",
    "    event_id = f['vertices'][0]['event_id']\n",
    "    \n",
    "    for vertex in f['vertices']:\n",
    "        if vertex['event_id'] < event_id:\n",
    "            print(\"Bad vertex: vertex #\" + str(vertex['file_vertex_id']) + \" is misplaced!\")\n",
    "        event_id = vertex['event_id']\n",
    "\n",
    "    print(\"Done!\\n\")\n",
    "\n",
    "# This function ensures that each event has exactly one vertex (test requires that vertices are well formed)\n",
    "def check_vertices(f):\n",
    "    print(\"Checking vertices...\")\n",
    "    event_id = f['vertices'][0]['event_id']\n",
    "    \n",
    "    for vertex in f['vertices']:\n",
    "        if vertex['vertex_id'] != 0:\n",
    "            print(\"Bad vertex: vertex #\" + str(vertex['file_vertex_id']) + \" has vertex ID \" + str(vertex['vertex_id']) + \" (event ID: \" + str(vertex['event_id']) + \")!\")\n",
    "        \n",
    "        while vertex['event_id'] > (event_id + 1):\n",
    "            print(\"Bad event: event #\" + str(event_id + 1) + \" has no associated vertex!\")\n",
    "            event_id += 1\n",
    "\n",
    "        event_id = vertex['event_id']\n",
    "    \n",
    "    print(\"Done!\\n\")"
   ]
  },
  {
   "cell_type": "code",
   "execution_count": null,
   "id": "17e131ae-3260-488f-876a-ee7e3bb40bb8",
   "metadata": {},
   "outputs": [],
   "source": [
    "# This function ensures that each hit segment has only one contributing trajectory\n",
    "def check_segment_trajectories(f):\n",
    "    print(\"Checking that each segment has exactly one contributing trajectory...\")\n",
    "    events = f.Get(\"EDepSimEvents\")\n",
    "    event = ROOT.TG4Event()\n",
    "    events.SetBranchAddress(\"Event\",ROOT.AddressOf(event))\n",
    "\n",
    "    for i in range(f['vertices'][0]['event_id'], f['vertices'][0]['event_id'] + len(f['vertices'])):\n",
    "        events.GetEntry(i)\n",
    "    \n",
    "        for containerName, hitSegments in event.SegmentDetectors:\n",
    "            for iHit, hitSegment in enumerate(hitSegments):\n",
    "                if hitSegment.Contrib.size() != 1:                        \n",
    "                    print(\"Segment #\" + str(iHit) + \" (event #\" + str(i) + \") has \" + str(hitSegment.Contrib.size()) + \" contributing trajectories!\")\n",
    "                    \n",
    "    print(\"Done!\\n\")"
   ]
  },
  {
   "cell_type": "code",
   "execution_count": null,
   "id": "fe396095-58cb-4ca3-9d96-43663fdd4dea",
   "metadata": {},
   "outputs": [],
   "source": [
    "# This function ensures that `event_id` is monotonically increasing with trajectory number\n",
    "def check_trajectories_well_formed(f):\n",
    "    print(\"Checking that trajectories are well formed...\")\n",
    "    event_id = f['trajectories'][0]['event_id']\n",
    "\n",
    "    for traj in f['trajectories']:\n",
    "        if traj['event_id'] < event_id:\n",
    "            print(\"Bad trajectory: trajectory #\" + str(traj['file_traj_id']) + \" is misplaced!\")\n",
    "        event_id = traj['event_id']\n",
    "\n",
    "    print(\"Done!\\n\")\n",
    "\n",
    "# This function ensures that all events have no duplicate trajectories and all trajectories are present (i.e., trajectories with IDs 0 to (n-1), where n is the number of trajectories for that event)\n",
    "def check_trajectories(f):\n",
    "    print(\"Checking trajectories...\")\n",
    "    event_id = f['trajectories'][0]['event_id']\n",
    "    traj_ids = []\n",
    "    \n",
    "    for traj in f['trajectories']:\n",
    "        if traj['event_id'] > event_id:\n",
    "            for i in range(len(traj_ids)):\n",
    "                if i not in traj_ids:               \n",
    "                    print(\"Bad event: event #\" + str(event_id) + \" has no trajectory #\" + str(i) + \"!\")\n",
    "                    \n",
    "            event_id = traj['event_id']\n",
    "            traj_ids = []\n",
    "\n",
    "        if traj['traj_id'] in traj_ids:\n",
    "            print(\"Bad trajectory: trajectory #\" + str(traj['file_traj_id']) + \" with trajectory ID \" + str(traj['traj_id']) + \" is a duplicate (event ID: \" + str(traj['event_id']) + \")!\")\n",
    "        \n",
    "        traj_ids.append(traj['traj_id'])\n",
    "\n",
    "    print(\"Done!\\n\")"
   ]
  },
  {
   "cell_type": "code",
   "execution_count": null,
   "id": "dadc1f1b-f06d-4369-a229-a284d5cccddd",
   "metadata": {},
   "outputs": [],
   "source": [
    "def in_active_volume(xyz_start, xyz_end):\n",
    "    return max(abs(xyz_start[0]), abs(xyz_start[2]), abs(xyz_end[0]), abs(xyz_end[2])) <= 30 and max(abs(xyz_start[1]), abs(xyz_end[1])) <= 25\n",
    "\n",
    "# This function ensures that `event_id` is monotonically increasing with segment number\n",
    "def check_segments_well_formed(f):\n",
    "    print(\"Checking that segments are well formed...\")\n",
    "    event_id = f['segments'][0]['event_id']\n",
    "\n",
    "    for seg in f['segments']:\n",
    "        if seg['event_id'] < event_id:\n",
    "            print(\"Bad segment: segment #\" + str(seg['segment_id']) + \" is misplaced!\")\n",
    "        event_id = seg['event_id']\n",
    "\n",
    "    print(\"Done!\\n\")\n",
    "\n",
    "\"\"\"# This function ensures that the energy deposition of each segment sums to the total energy of the trajectory\n",
    "def check_segments(f):\n",
    "    print(\"Checking segments...\")\n",
    "    \n",
    "    event_id = f['segments'][0]['event_id']\n",
    "    energies = {}\n",
    "    for seg in f['segments']:\n",
    "        if seg['event_id'] > event_id:\n",
    "            for file_traj_id in energies:\n",
    "                traj = next((x for x in f['trajectories'][max(int(file_traj_id) - 100, 0) : min(int(file_traj_id) + 100, len(f['trajectories']) - 1)] if x['file_traj_id'] == file_traj_id), None)\n",
    "                if abs(energies[file_traj_id] - (traj['E_start'] - traj['E_end'])) >= 0.0001 and in_active_volume(traj['xyz_start'], traj['xyz_end']):\n",
    "                    print(\"Bad trajectory: segment energies corresponding to trajectory #\" + str(file_traj_id) + \" (traj_id: \" + str(traj['traj_id']) + \", event_id: \" + str(traj['event_id']) + \") do not match! The sum of the segment energies is \" + str(energies[file_traj_id]) + \", while the difference in trajectory energies is \" + str(traj['E_start'] - traj['E_end']) + \"!\")\n",
    "            energies = {}\n",
    "            \n",
    "        event_id = seg['event_id']\n",
    "\n",
    "        if energies.get(seg['file_traj_id']):\n",
    "            energies[seg['file_traj_id']] += seg['dE']\n",
    "        else:\n",
    "            energies[seg['file_traj_id']] = seg['dE']\n",
    "\n",
    "    print(\"Done!\\n\")\"\"\""
   ]
  },
  {
   "cell_type": "code",
   "execution_count": null,
   "id": "fda98f18-1109-48f8-a144-45c1db032896",
   "metadata": {},
   "outputs": [],
   "source": [
    "# This function checks for duplicate primary electrons\n",
    "def check_for_duplicate_primary_electrons(f):\n",
    "    print(\"Checking for duplicate primary electrons...\")\n",
    "\n",
    "    event_id = f['trajectories'][0]['event_id']\n",
    "    hit = False\n",
    "    \n",
    "    for traj in f['trajectories']:\n",
    "        if traj['event_id'] > event_id:\n",
    "            if not hit:\n",
    "                print(\"Bad event: event #\" + str(event_id) + \" has no primary electrons!\")\n",
    "            \n",
    "            hit = False\n",
    "            event_id = traj['event_id']\n",
    "            \n",
    "        if traj['parent_id'] == -1 and traj['pdg_id'] == 11:\n",
    "            if hit:\n",
    "                print(\"Bad event: event #\" + str(event_id) + \" has at least primary electrons!\")\n",
    "            else:\n",
    "                hit = True\n",
    "\n",
    "    print(\"Done!\\n\")\n",
    "\n",
    "f = h5py.File('/sdf/data/neutrino/yuntse/coherent/SNeNDSens/g4/NueArCC/nueArCC_sns_yDir_g4_0000.h5', 'r')\n",
    "check_for_duplicate_primary_electrons(f)"
   ]
  }
 ],
 "metadata": {
  "kernelspec": {
   "display_name": "Python 3 (ipykernel)",
   "language": "python",
   "name": "python3"
  },
  "language_info": {
   "codemirror_mode": {
    "name": "ipython",
    "version": 3
   },
   "file_extension": ".py",
   "mimetype": "text/x-python",
   "name": "python",
   "nbconvert_exporter": "python",
   "pygments_lexer": "ipython3",
   "version": "3.10.12"
  }
 },
 "nbformat": 4,
 "nbformat_minor": 5
}
